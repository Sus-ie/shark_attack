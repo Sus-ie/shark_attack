{
 "cells": [
  {
   "cell_type": "code",
   "execution_count": 8,
   "id": "5ba9251d-bbfe-453d-9039-3fe34e080d05",
   "metadata": {},
   "outputs": [],
   "source": [
    "import pandas as pd\n",
    "import numpy as np\n",
    "import warnings\n",
    "warnings.filterwarnings('ignore')"
   ]
  },
  {
   "cell_type": "code",
   "execution_count": 13,
   "id": "f82eb16e-2dcf-429f-97ac-b5635254bfd9",
   "metadata": {},
   "outputs": [],
   "source": [
    "data = pd.read_excel(\"https://www.sharkattackfile.net/spreadsheets/GSAF5.xls\")"
   ]
  },
  {
   "cell_type": "code",
   "execution_count": 14,
   "id": "4dba8fca-4a26-46fc-8838-c0c99d3acf51",
   "metadata": {
    "scrolled": true
   },
   "outputs": [
    {
     "data": {
      "text/html": [
       "<div>\n",
       "<style scoped>\n",
       "    .dataframe tbody tr th:only-of-type {\n",
       "        vertical-align: middle;\n",
       "    }\n",
       "\n",
       "    .dataframe tbody tr th {\n",
       "        vertical-align: top;\n",
       "    }\n",
       "\n",
       "    .dataframe thead th {\n",
       "        text-align: right;\n",
       "    }\n",
       "</style>\n",
       "<table border=\"1\" class=\"dataframe\">\n",
       "  <thead>\n",
       "    <tr style=\"text-align: right;\">\n",
       "      <th></th>\n",
       "      <th>Date</th>\n",
       "      <th>Year</th>\n",
       "      <th>Type</th>\n",
       "      <th>Country</th>\n",
       "      <th>State</th>\n",
       "      <th>Location</th>\n",
       "      <th>Activity</th>\n",
       "      <th>Name</th>\n",
       "      <th>Sex</th>\n",
       "      <th>Age</th>\n",
       "      <th>...</th>\n",
       "      <th>Species</th>\n",
       "      <th>Source</th>\n",
       "      <th>pdf</th>\n",
       "      <th>href formula</th>\n",
       "      <th>href</th>\n",
       "      <th>Case Number</th>\n",
       "      <th>Case Number.1</th>\n",
       "      <th>original order</th>\n",
       "      <th>Unnamed: 21</th>\n",
       "      <th>Unnamed: 22</th>\n",
       "    </tr>\n",
       "  </thead>\n",
       "  <tbody>\n",
       "    <tr>\n",
       "      <th>2435</th>\n",
       "      <td>03-Oct-2002</td>\n",
       "      <td>2002.0</td>\n",
       "      <td>Unprovoked</td>\n",
       "      <td>USA</td>\n",
       "      <td>Florida</td>\n",
       "      <td>New Smyrna Beach, Volusia County</td>\n",
       "      <td>Surfing</td>\n",
       "      <td>Cheyne Kehoe</td>\n",
       "      <td>M</td>\n",
       "      <td>18</td>\n",
       "      <td>...</td>\n",
       "      <td>3.5' to 4' shark</td>\n",
       "      <td>S. Petersohn, GSAF; Local 6 News; Orlando Sent...</td>\n",
       "      <td>2002.10.03-Kehoe.pdf</td>\n",
       "      <td>http://sharkattackfile.net/spreadsheets/pdf_di...</td>\n",
       "      <td>http://sharkattackfile.net/spreadsheets/pdf_di...</td>\n",
       "      <td>2002.10.03</td>\n",
       "      <td>2002.10.03</td>\n",
       "      <td>4507.0</td>\n",
       "      <td>NaN</td>\n",
       "      <td>NaN</td>\n",
       "    </tr>\n",
       "    <tr>\n",
       "      <th>4716</th>\n",
       "      <td>Reported 26-Jun-1959</td>\n",
       "      <td>1959.0</td>\n",
       "      <td>Unprovoked</td>\n",
       "      <td>TURKEY</td>\n",
       "      <td>Mersin Province</td>\n",
       "      <td>Off Mezitli</td>\n",
       "      <td>NaN</td>\n",
       "      <td>Yitzhak Steinberg</td>\n",
       "      <td>M</td>\n",
       "      <td>NaN</td>\n",
       "      <td>...</td>\n",
       "      <td>NaN</td>\n",
       "      <td>C. Moore, GSAF</td>\n",
       "      <td>1959.06.26.R-Steinberg.pdf</td>\n",
       "      <td>http://sharkattackfile.net/spreadsheets/pdf_di...</td>\n",
       "      <td>http://sharkattackfile.net/spreadsheets/pdf_di...</td>\n",
       "      <td>1959.06.26.R</td>\n",
       "      <td>1959.06.26.R</td>\n",
       "      <td>2226.0</td>\n",
       "      <td>NaN</td>\n",
       "      <td>NaN</td>\n",
       "    </tr>\n",
       "    <tr>\n",
       "      <th>6430</th>\n",
       "      <td>Sep-1882</td>\n",
       "      <td>1882.0</td>\n",
       "      <td>Unprovoked</td>\n",
       "      <td>JAPAN</td>\n",
       "      <td>NaN</td>\n",
       "      <td>NaN</td>\n",
       "      <td>Clinging to shipwrecked junk</td>\n",
       "      <td>Japanese fisherman</td>\n",
       "      <td>M</td>\n",
       "      <td>NaN</td>\n",
       "      <td>...</td>\n",
       "      <td>NaN</td>\n",
       "      <td>Launceston Examiner, 6/21/1883</td>\n",
       "      <td>1882.09.00-JapaneseFisherman.pdf</td>\n",
       "      <td>http://sharkattackfile.net/spreadsheets/pdf_di...</td>\n",
       "      <td>http://sharkattackfile.net/spreadsheets/pdf_di...</td>\n",
       "      <td>1882.09.00</td>\n",
       "      <td>1882.09.00</td>\n",
       "      <td>513.0</td>\n",
       "      <td>NaN</td>\n",
       "      <td>NaN</td>\n",
       "    </tr>\n",
       "    <tr>\n",
       "      <th>2337</th>\n",
       "      <td>06-Nov-2003</td>\n",
       "      <td>2003.0</td>\n",
       "      <td>Unprovoked</td>\n",
       "      <td>SOUTH AFRICA</td>\n",
       "      <td>KwaZulu-Natal</td>\n",
       "      <td>Karridene</td>\n",
       "      <td>Surf skiing</td>\n",
       "      <td>2 people on ski</td>\n",
       "      <td>NaN</td>\n",
       "      <td>NaN</td>\n",
       "      <td>...</td>\n",
       "      <td>White shark</td>\n",
       "      <td>Natal Sharks Board</td>\n",
       "      <td>2003.11.06.a-Karridene.pdf</td>\n",
       "      <td>http://sharkattackfile.net/spreadsheets/pdf_di...</td>\n",
       "      <td>http://sharkattackfile.net/spreadsheets/pdf_di...</td>\n",
       "      <td>2003.11.06.a</td>\n",
       "      <td>2003.11.06.a</td>\n",
       "      <td>4605.0</td>\n",
       "      <td>NaN</td>\n",
       "      <td>NaN</td>\n",
       "    </tr>\n",
       "    <tr>\n",
       "      <th>3402</th>\n",
       "      <td>15-Apr-1987</td>\n",
       "      <td>1987.0</td>\n",
       "      <td>Unprovoked</td>\n",
       "      <td>USA</td>\n",
       "      <td>Hawaii</td>\n",
       "      <td>Kailua-Kona, Hawai'i</td>\n",
       "      <td>Swimming from shore to anchored sailboat</td>\n",
       "      <td>Daniel Kennedy</td>\n",
       "      <td>M</td>\n",
       "      <td>NaN</td>\n",
       "      <td>...</td>\n",
       "      <td>NaN</td>\n",
       "      <td>J. Borg, p.76; L. Taylor (1993), pp.106-107</td>\n",
       "      <td>1987.04.15-Kennedy.pdf</td>\n",
       "      <td>http://sharkattackfile.net/spreadsheets/pdf_di...</td>\n",
       "      <td>http://sharkattackfile.net/spreadsheets/pdf_di...</td>\n",
       "      <td>1987.04.15</td>\n",
       "      <td>1987.04.15</td>\n",
       "      <td>3540.0</td>\n",
       "      <td>NaN</td>\n",
       "      <td>NaN</td>\n",
       "    </tr>\n",
       "    <tr>\n",
       "      <th>661</th>\n",
       "      <td>13-Jan-2018</td>\n",
       "      <td>2018.0</td>\n",
       "      <td>Unprovoked</td>\n",
       "      <td>AUSTRALIA</td>\n",
       "      <td>New South Wales</td>\n",
       "      <td>Martin Islet</td>\n",
       "      <td>Free diving</td>\n",
       "      <td>Callum Stewart</td>\n",
       "      <td>M</td>\n",
       "      <td>28</td>\n",
       "      <td>...</td>\n",
       "      <td>White shark, 3.5 m</td>\n",
       "      <td>B. Myatt, GSAF</td>\n",
       "      <td>2018.01.13-Stewart.pdf</td>\n",
       "      <td>http://sharkattackfile.net/spreadsheets/pdf_di...</td>\n",
       "      <td>http://sharkattackfile.net/spreadsheets/pdf_di...</td>\n",
       "      <td>2018.01.13</td>\n",
       "      <td>2018.01.13</td>\n",
       "      <td>6282.0</td>\n",
       "      <td>NaN</td>\n",
       "      <td>NaN</td>\n",
       "    </tr>\n",
       "    <tr>\n",
       "      <th>3697</th>\n",
       "      <td>15-Jan-1980</td>\n",
       "      <td>1980.0</td>\n",
       "      <td>Provoked</td>\n",
       "      <td>SOUTH AFRICA</td>\n",
       "      <td>KwaZulu-Natal</td>\n",
       "      <td>Anstey’s</td>\n",
       "      <td>Spearfishing</td>\n",
       "      <td>Les Winkworth</td>\n",
       "      <td>M</td>\n",
       "      <td>29</td>\n",
       "      <td>...</td>\n",
       "      <td>2 m [6'9\"] Zambesi shark</td>\n",
       "      <td>L. Winkworth, M. Levine, GSAF</td>\n",
       "      <td>1980.01.15-Winkworth.pdf</td>\n",
       "      <td>http://sharkattackfile.net/spreadsheets/pdf_di...</td>\n",
       "      <td>http://sharkattackfile.net/spreadsheets/pdf_di...</td>\n",
       "      <td>1980.01.15</td>\n",
       "      <td>1980.01.15</td>\n",
       "      <td>3245.0</td>\n",
       "      <td>NaN</td>\n",
       "      <td>NaN</td>\n",
       "    </tr>\n",
       "    <tr>\n",
       "      <th>2613</th>\n",
       "      <td>14-Oct-2000</td>\n",
       "      <td>2000.0</td>\n",
       "      <td>Unprovoked</td>\n",
       "      <td>USA</td>\n",
       "      <td>Florida</td>\n",
       "      <td>South Beach, Sebastian, Indian River County</td>\n",
       "      <td>Swimming</td>\n",
       "      <td>Norman Payne</td>\n",
       "      <td>M</td>\n",
       "      <td>69</td>\n",
       "      <td>...</td>\n",
       "      <td>NaN</td>\n",
       "      <td>D. Robinson, Vero Beach Press Journal, 10/17/2...</td>\n",
       "      <td>2000.10.14-Payne.pdf</td>\n",
       "      <td>http://sharkattackfile.net/spreadsheets/pdf_di...</td>\n",
       "      <td>http://sharkattackfile.net/spreadsheets/pdf_di...</td>\n",
       "      <td>2000.10.14</td>\n",
       "      <td>2000.10.14</td>\n",
       "      <td>4329.0</td>\n",
       "      <td>NaN</td>\n",
       "      <td>NaN</td>\n",
       "    </tr>\n",
       "    <tr>\n",
       "      <th>6557</th>\n",
       "      <td>17-Jan-1868</td>\n",
       "      <td>1868.0</td>\n",
       "      <td>Sea Disaster</td>\n",
       "      <td>VIETNAM</td>\n",
       "      <td>NaN</td>\n",
       "      <td>Cohong</td>\n",
       "      <td>A junk foundered</td>\n",
       "      <td>NaN</td>\n",
       "      <td>M</td>\n",
       "      <td>NaN</td>\n",
       "      <td>...</td>\n",
       "      <td>NaN</td>\n",
       "      <td>Argus, 5/26/1868</td>\n",
       "      <td>1868.01.17-Vietnamese.pdf</td>\n",
       "      <td>http://sharkattackfile.net/spreadsheets/pdf_di...</td>\n",
       "      <td>http://sharkattackfile.net/spreadsheets/pdf_di...</td>\n",
       "      <td>1868.01.17</td>\n",
       "      <td>1868.01.17</td>\n",
       "      <td>386.0</td>\n",
       "      <td>NaN</td>\n",
       "      <td>NaN</td>\n",
       "    </tr>\n",
       "    <tr>\n",
       "      <th>2139</th>\n",
       "      <td>25-Nov-2005</td>\n",
       "      <td>2005.0</td>\n",
       "      <td>Unprovoked</td>\n",
       "      <td>SOUTH AFRICA</td>\n",
       "      <td>Eastern Cape Province</td>\n",
       "      <td>Nahoon, East London</td>\n",
       "      <td>Surfing</td>\n",
       "      <td>Ashley Milford</td>\n",
       "      <td>M</td>\n",
       "      <td>26</td>\n",
       "      <td>...</td>\n",
       "      <td>NaN</td>\n",
       "      <td>Dispatch online</td>\n",
       "      <td>2005.11.25.a-Milford.pdf</td>\n",
       "      <td>http://sharkattackfile.net/spreadsheets/pdf_di...</td>\n",
       "      <td>http://sharkattackfile.net/spreadsheets/pdf_di...</td>\n",
       "      <td>2005.11.25.a</td>\n",
       "      <td>2005.11.25.a</td>\n",
       "      <td>4803.0</td>\n",
       "      <td>NaN</td>\n",
       "      <td>NaN</td>\n",
       "    </tr>\n",
       "  </tbody>\n",
       "</table>\n",
       "<p>10 rows × 23 columns</p>\n",
       "</div>"
      ],
      "text/plain": [
       "                      Date    Year          Type       Country  \\\n",
       "2435           03-Oct-2002  2002.0    Unprovoked           USA   \n",
       "4716  Reported 26-Jun-1959  1959.0    Unprovoked        TURKEY   \n",
       "6430              Sep-1882  1882.0    Unprovoked         JAPAN   \n",
       "2337           06-Nov-2003  2003.0    Unprovoked  SOUTH AFRICA   \n",
       "3402           15-Apr-1987  1987.0    Unprovoked           USA   \n",
       "661            13-Jan-2018  2018.0    Unprovoked     AUSTRALIA   \n",
       "3697           15-Jan-1980  1980.0      Provoked  SOUTH AFRICA   \n",
       "2613           14-Oct-2000  2000.0    Unprovoked           USA   \n",
       "6557           17-Jan-1868  1868.0  Sea Disaster       VIETNAM   \n",
       "2139           25-Nov-2005  2005.0    Unprovoked  SOUTH AFRICA   \n",
       "\n",
       "                      State                                     Location  \\\n",
       "2435                Florida             New Smyrna Beach, Volusia County   \n",
       "4716        Mersin Province                                  Off Mezitli   \n",
       "6430                    NaN                                          NaN   \n",
       "2337          KwaZulu-Natal                                    Karridene   \n",
       "3402                 Hawaii                         Kailua-Kona, Hawai'i   \n",
       "661         New South Wales                                 Martin Islet   \n",
       "3697          KwaZulu-Natal                                     Anstey’s   \n",
       "2613                Florida  South Beach, Sebastian, Indian River County   \n",
       "6557                    NaN                                       Cohong   \n",
       "2139  Eastern Cape Province                          Nahoon, East London   \n",
       "\n",
       "                                      Activity                Name  Sex  Age  \\\n",
       "2435                                   Surfing       Cheyne Kehoe     M   18   \n",
       "4716                                       NaN   Yitzhak Steinberg    M  NaN   \n",
       "6430              Clinging to shipwrecked junk  Japanese fisherman    M  NaN   \n",
       "2337                               Surf skiing     2 people on ski  NaN  NaN   \n",
       "3402  Swimming from shore to anchored sailboat      Daniel Kennedy    M  NaN   \n",
       "661                                Free diving      Callum Stewart    M   28   \n",
       "3697                              Spearfishing       Les Winkworth    M   29   \n",
       "2613                                  Swimming        Norman Payne    M   69   \n",
       "6557                          A junk foundered                 NaN    M  NaN   \n",
       "2139                                   Surfing      Ashley Milford    M   26   \n",
       "\n",
       "      ...                  Species   \\\n",
       "2435  ...          3.5' to 4' shark   \n",
       "4716  ...                       NaN   \n",
       "6430  ...                       NaN   \n",
       "2337  ...               White shark   \n",
       "3402  ...                       NaN   \n",
       "661   ...        White shark, 3.5 m   \n",
       "3697  ...  2 m [6'9\"] Zambesi shark   \n",
       "2613  ...                       NaN   \n",
       "6557  ...                       NaN   \n",
       "2139  ...                       NaN   \n",
       "\n",
       "                                                 Source  \\\n",
       "2435  S. Petersohn, GSAF; Local 6 News; Orlando Sent...   \n",
       "4716                                     C. Moore, GSAF   \n",
       "6430                    Launceston Examiner, 6/21/1883    \n",
       "2337                                 Natal Sharks Board   \n",
       "3402        J. Borg, p.76; L. Taylor (1993), pp.106-107   \n",
       "661                                      B. Myatt, GSAF   \n",
       "3697                      L. Winkworth, M. Levine, GSAF   \n",
       "2613  D. Robinson, Vero Beach Press Journal, 10/17/2...   \n",
       "6557                                   Argus, 5/26/1868   \n",
       "2139                                    Dispatch online   \n",
       "\n",
       "                                   pdf  \\\n",
       "2435              2002.10.03-Kehoe.pdf   \n",
       "4716        1959.06.26.R-Steinberg.pdf   \n",
       "6430  1882.09.00-JapaneseFisherman.pdf   \n",
       "2337        2003.11.06.a-Karridene.pdf   \n",
       "3402            1987.04.15-Kennedy.pdf   \n",
       "661             2018.01.13-Stewart.pdf   \n",
       "3697          1980.01.15-Winkworth.pdf   \n",
       "2613              2000.10.14-Payne.pdf   \n",
       "6557         1868.01.17-Vietnamese.pdf   \n",
       "2139          2005.11.25.a-Milford.pdf   \n",
       "\n",
       "                                           href formula  \\\n",
       "2435  http://sharkattackfile.net/spreadsheets/pdf_di...   \n",
       "4716  http://sharkattackfile.net/spreadsheets/pdf_di...   \n",
       "6430  http://sharkattackfile.net/spreadsheets/pdf_di...   \n",
       "2337  http://sharkattackfile.net/spreadsheets/pdf_di...   \n",
       "3402  http://sharkattackfile.net/spreadsheets/pdf_di...   \n",
       "661   http://sharkattackfile.net/spreadsheets/pdf_di...   \n",
       "3697  http://sharkattackfile.net/spreadsheets/pdf_di...   \n",
       "2613  http://sharkattackfile.net/spreadsheets/pdf_di...   \n",
       "6557  http://sharkattackfile.net/spreadsheets/pdf_di...   \n",
       "2139  http://sharkattackfile.net/spreadsheets/pdf_di...   \n",
       "\n",
       "                                                   href   Case Number  \\\n",
       "2435  http://sharkattackfile.net/spreadsheets/pdf_di...    2002.10.03   \n",
       "4716  http://sharkattackfile.net/spreadsheets/pdf_di...  1959.06.26.R   \n",
       "6430  http://sharkattackfile.net/spreadsheets/pdf_di...    1882.09.00   \n",
       "2337  http://sharkattackfile.net/spreadsheets/pdf_di...  2003.11.06.a   \n",
       "3402  http://sharkattackfile.net/spreadsheets/pdf_di...    1987.04.15   \n",
       "661   http://sharkattackfile.net/spreadsheets/pdf_di...    2018.01.13   \n",
       "3697  http://sharkattackfile.net/spreadsheets/pdf_di...    1980.01.15   \n",
       "2613  http://sharkattackfile.net/spreadsheets/pdf_di...    2000.10.14   \n",
       "6557  http://sharkattackfile.net/spreadsheets/pdf_di...    1868.01.17   \n",
       "2139  http://sharkattackfile.net/spreadsheets/pdf_di...  2005.11.25.a   \n",
       "\n",
       "     Case Number.1 original order Unnamed: 21 Unnamed: 22  \n",
       "2435    2002.10.03         4507.0         NaN         NaN  \n",
       "4716  1959.06.26.R         2226.0         NaN         NaN  \n",
       "6430    1882.09.00          513.0         NaN         NaN  \n",
       "2337  2003.11.06.a         4605.0         NaN         NaN  \n",
       "3402    1987.04.15         3540.0         NaN         NaN  \n",
       "661     2018.01.13         6282.0         NaN         NaN  \n",
       "3697    1980.01.15         3245.0         NaN         NaN  \n",
       "2613    2000.10.14         4329.0         NaN         NaN  \n",
       "6557    1868.01.17          386.0         NaN         NaN  \n",
       "2139  2005.11.25.a         4803.0         NaN         NaN  \n",
       "\n",
       "[10 rows x 23 columns]"
      ]
     },
     "execution_count": 14,
     "metadata": {},
     "output_type": "execute_result"
    }
   ],
   "source": [
    "data.sample(10)"
   ]
  },
  {
   "cell_type": "code",
   "execution_count": 6,
   "id": "ddcc9a5f-0075-4a65-8993-41b46249527a",
   "metadata": {},
   "outputs": [
    {
     "data": {
      "text/plain": [
       "Date\n",
       "1957           9\n",
       "1942           8\n",
       "1958           7\n",
       "No date        6\n",
       "1956           6\n",
       "              ..\n",
       "07-Jul-2000    1\n",
       "09-Jul-2000    1\n",
       "10-Jul-2000    1\n",
       "12-Jul-2000    1\n",
       "1845-1853      1\n",
       "Name: count, Length: 6003, dtype: int64"
      ]
     },
     "execution_count": 6,
     "metadata": {},
     "output_type": "execute_result"
    }
   ],
   "source": [
    "data['Date'].value_counts()"
   ]
  },
  {
   "cell_type": "code",
   "execution_count": 17,
   "id": "dc3253db-9ca2-40d6-a54c-1e864e7a93f4",
   "metadata": {},
   "outputs": [
    {
     "data": {
      "text/plain": [
       "Year\n",
       "2015.0    143\n",
       "2017.0    139\n",
       "2016.0    131\n",
       "0.0       129\n",
       "2011.0    128\n",
       "         ... \n",
       "1784.0      1\n",
       "1783.0      1\n",
       "1780.0      1\n",
       "1779.0      1\n",
       "1819.0      1\n",
       "Name: count, Length: 259, dtype: int64"
      ]
     },
     "execution_count": 17,
     "metadata": {},
     "output_type": "execute_result"
    }
   ],
   "source": [
    "data['Year'].value_counts()"
   ]
  },
  {
   "cell_type": "code",
   "execution_count": 19,
   "id": "d8cd330c-31de-4dae-a788-99e6a4bfc9b2",
   "metadata": {},
   "outputs": [
    {
     "data": {
      "text/plain": [
       "Type\n",
       "Unprovoked             5107\n",
       "Provoked                635\n",
       "Invalid                 552\n",
       "Watercraft              355\n",
       "Sea Disaster            242\n",
       "Questionable             22\n",
       "Boat                      7\n",
       " Provoked                 2\n",
       "?                         1\n",
       "Unconfirmed               1\n",
       "Unverified                1\n",
       "Under investigation       1\n",
       "Name: count, dtype: int64"
      ]
     },
     "execution_count": 19,
     "metadata": {},
     "output_type": "execute_result"
    }
   ],
   "source": [
    "data['Type'].value_counts()"
   ]
  },
  {
   "cell_type": "code",
   "execution_count": 21,
   "id": "07f53c86-7d28-4843-ba4b-baebeafebc57",
   "metadata": {},
   "outputs": [
    {
     "data": {
      "text/plain": [
       "Country\n",
       "USA                   2538\n",
       "AUSTRALIA             1481\n",
       "SOUTH AFRICA           597\n",
       "NEW ZEALAND            144\n",
       "BAHAMAS                136\n",
       "                      ... \n",
       "PUERTO RICO              1\n",
       "RED SEA                  1\n",
       "Coral Sea                1\n",
       "BRITISH ISLES            1\n",
       "CEYLON (SRI LANKA)       1\n",
       "Name: count, Length: 225, dtype: int64"
      ]
     },
     "execution_count": 21,
     "metadata": {},
     "output_type": "execute_result"
    }
   ],
   "source": [
    "data['Country'].value_counts()"
   ]
  },
  {
   "cell_type": "code",
   "execution_count": 23,
   "id": "61e0f17a-d5ef-496b-b8eb-87ea69218986",
   "metadata": {},
   "outputs": [
    {
     "data": {
      "text/plain": [
       "State\n",
       "Florida                1178\n",
       "New South Wales         521\n",
       "Queensland              347\n",
       "Hawaii                  341\n",
       "California              323\n",
       "                       ... \n",
       "Shizuoka Prefecture       1\n",
       "Brindisi Province         1\n",
       "Kagawa Prefecture         1\n",
       " Upolu Island             1\n",
       "Moala Island              1\n",
       "Name: count, Length: 902, dtype: int64"
      ]
     },
     "execution_count": 23,
     "metadata": {},
     "output_type": "execute_result"
    }
   ],
   "source": [
    "data['State'].value_counts()"
   ]
  },
  {
   "cell_type": "code",
   "execution_count": 25,
   "id": "f84f964b-1df8-4b56-a525-cdc4933fc1dd",
   "metadata": {},
   "outputs": [
    {
     "data": {
      "text/plain": [
       "Location\n",
       "New Smyrna Beach, Volusia County                            191\n",
       "Daytona Beach, Volusia County                                31\n",
       "Ponce Inlet, Volusia County                                  28\n",
       "Myrtle Beach, Horry County                                   22\n",
       "Melbourne Beach, Brevard County                              20\n",
       "                                                           ... \n",
       "Limay                                                         1\n",
       "Pau Amarelo Beach, Paulista District (17 km from Recife)      1\n",
       "Melbourne Beach, Brevard County                               1\n",
       "Shepard Park, Cocoa Beach, Brevard County                     1\n",
       "Below the English fort, Trincomalee                           1\n",
       "Name: count, Length: 4514, dtype: int64"
      ]
     },
     "execution_count": 25,
     "metadata": {},
     "output_type": "execute_result"
    }
   ],
   "source": [
    "data['Location'].value_counts()"
   ]
  },
  {
   "cell_type": "code",
   "execution_count": 27,
   "id": "079702ff-8731-42a1-8308-78ab668209bb",
   "metadata": {},
   "outputs": [
    {
     "data": {
      "text/plain": [
       "Activity\n",
       "Surfing                                                        1121\n",
       "Swimming                                                        976\n",
       "Fishing                                                         488\n",
       "Spearfishing                                                    382\n",
       "Wading                                                          174\n",
       "                                                               ... \n",
       "Fishing boat swamped in a storm                                   1\n",
       "Free diving (but on surface)                                      1\n",
       "Adrift after the sinking of the motor yacht Princess Dianne       1\n",
       "Free diving for abalone (submerged)                               1\n",
       "Wreck of  large double sailing canoe                              1\n",
       "Name: count, Length: 1587, dtype: int64"
      ]
     },
     "execution_count": 27,
     "metadata": {},
     "output_type": "execute_result"
    }
   ],
   "source": [
    "data['Activity'].value_counts()"
   ]
  },
  {
   "cell_type": "code",
   "execution_count": 31,
   "id": "02d16a04-a6fb-44d0-9be4-09bd47bc7175",
   "metadata": {},
   "outputs": [
    {
     "data": {
      "text/plain": [
       "Name\n",
       "male                680\n",
       "female              136\n",
       "boy                  23\n",
       "2 males              17\n",
       "boat                 14\n",
       "                   ... \n",
       "John McGovern         1\n",
       "Martin Gunda          1\n",
       "Joseph Krone          1\n",
       "Deborah Franzman      1\n",
       "Jules Patterson       1\n",
       "Name: count, Length: 5683, dtype: int64"
      ]
     },
     "execution_count": 31,
     "metadata": {},
     "output_type": "execute_result"
    }
   ],
   "source": [
    "data['Name'].value_counts() # >>>Suggest drop<<<\n",
    "# Victims names are unimportant for basic analysis\n",
    "# Also, a considerable ammount of the data is either NaN or misinformation (like the sex, for example)"
   ]
  },
  {
   "cell_type": "code",
   "execution_count": 33,
   "id": "01a103ad-ba42-44de-b161-efe96106722a",
   "metadata": {},
   "outputs": [
    {
     "data": {
      "text/plain": [
       "Sex\n",
       "M        5578\n",
       "F         779\n",
       "M           2\n",
       "N           2\n",
       " M          1\n",
       "lli         1\n",
       "M x 2       1\n",
       ".           1\n",
       "Name: count, dtype: int64"
      ]
     },
     "execution_count": 33,
     "metadata": {},
     "output_type": "execute_result"
    }
   ],
   "source": [
    "data['Sex'].value_counts() # This one looks like a worthy column!! :D"
   ]
  },
  {
   "cell_type": "code",
   "execution_count": 35,
   "id": "684bc0db-1c5c-46cd-a3de-aff5c6de19b9",
   "metadata": {},
   "outputs": [
    {
     "data": {
      "text/plain": [
       "Age\n",
       "19          89\n",
       "16          89\n",
       "17          88\n",
       "17          85\n",
       "15          84\n",
       "            ..\n",
       "84           1\n",
       "36 & 26      1\n",
       "77           1\n",
       "Teens        1\n",
       "13 or 14     1\n",
       "Name: count, Length: 243, dtype: int64"
      ]
     },
     "execution_count": 35,
     "metadata": {},
     "output_type": "execute_result"
    }
   ],
   "source": [
    "data['Age'].value_counts() # Also seems like a very interesting column to keep\n",
    "# Although, half of it (43.32%) is NaN >>>filling consideration<<<"
   ]
  },
  {
   "cell_type": "code",
   "execution_count": 37,
   "id": "98691684-5fc7-4374-94c8-dc845b2951b0",
   "metadata": {},
   "outputs": [
    {
     "data": {
      "text/plain": [
       "Injury\n",
       "FATAL                                                                              863\n",
       "Foot bitten                                                                        100\n",
       "Survived                                                                            97\n",
       "No injury                                                                           85\n",
       "Leg bitten                                                                          81\n",
       "                                                                                  ... \n",
       "Right calf & heel bitten                                                             1\n",
       "Multiple bites to foot after jumping off surfboard onto shark PROVOKED INCIDENT      1\n",
       "Shallow  lacerations to left  thigh PROVOKED INCIDENT                                1\n",
       "Bitten on finger                                                                     1\n",
       "FATAL. \"Shark bit him in half, carrying away the lower extremities\"                  1\n",
       "Name: count, Length: 4079, dtype: int64"
      ]
     },
     "execution_count": 37,
     "metadata": {},
     "output_type": "execute_result"
    }
   ],
   "source": [
    "data['Injury'].value_counts() # This is a tricky column, as it's data is higly nominal"
   ]
  },
  {
   "cell_type": "code",
   "execution_count": 41,
   "id": "d18ddd35-d31c-41d8-9570-54d77ed78f0e",
   "metadata": {},
   "outputs": [
    {
     "data": {
      "text/plain": [
       "Time\n",
       "Afternoon       215\n",
       "11h00           140\n",
       "Morning         135\n",
       "15h00           127\n",
       "16h00           123\n",
       "               ... \n",
       "10h27             1\n",
       "10h16             1\n",
       "14h09             1\n",
       "Before 07h00      1\n",
       "19h00-20h00       1\n",
       "Name: count, Length: 410, dtype: int64"
      ]
     },
     "execution_count": 41,
     "metadata": {},
     "output_type": "execute_result"
    }
   ],
   "source": [
    "data['Time'].value_counts() # This column is quite interesting to deepen the analysis\n",
    "# But not highly interesting for shallow analysis"
   ]
  },
  {
   "cell_type": "code",
   "execution_count": 49,
   "id": "e5997321-ef4b-4919-8fb0-97b3e6f6605f",
   "metadata": {},
   "outputs": [
    {
     "data": {
      "text/plain": [
       "Species \n",
       "White shark                                                                                                                      194\n",
       "Shark involvement prior to death was not confirmed                                                                               105\n",
       "Invalid                                                                                                                          102\n",
       "Shark involvement not confirmed                                                                                                   92\n",
       "Tiger shark                                                                                                                       89\n",
       "                                                                                                                                ... \n",
       "1.2 m to 1.8 m [4' to 6'] shark                                                                                                    1\n",
       "Grey nurse shark, 3 m female                                                                                                       1\n",
       "Porbeagle shark, 3 m [10']rk                                                                                                       1\n",
       "White shark, 4.5 m [14'9\"]                                                                                                         1\n",
       "Said to involve a grey nurse shark that leapt out of the water and  seized the boy but species identification is questionable      1\n",
       "Name: count, Length: 1675, dtype: int64"
      ]
     },
     "execution_count": 49,
     "metadata": {},
     "output_type": "execute_result"
    }
   ],
   "source": [
    "data['Species '].value_counts() # Please note that there is an unnecessary space at the end of the name of the column"
   ]
  },
  {
   "cell_type": "code",
   "execution_count": 51,
   "id": "e15313b4-6d20-4723-b375-e5a60abaf548",
   "metadata": {},
   "outputs": [
    {
     "data": {
      "text/plain": [
       "Source\n",
       "K. McMurray, TrackingSharks.com                                                                                       131\n",
       "C. Moore, GSAF                                                                                                        105\n",
       "C. Creswell, GSAF                                                                                                     101\n",
       "S. Petersohn, GSAF                                                                                                     82\n",
       "B. Myatt, GSAF                                                                                                         59\n",
       "                                                                                                                     ... \n",
       "S. Petersohn, GSAF; M. I. Johnson,  Daytona Beach News Journal, 9/19/2000, p.1A; Orlando Sentinel, 9/9/2000 , p.D2      1\n",
       "E. Matechi; A. Mbogora                                                                                                  1\n",
       "Fort Pierce Tribune, 9/12/2000                                                                                          1\n",
       "S. Petersohn, GSAF; Daytona  Beach News Journal, 9/12/2000, p.1.A; Orlando Sentinel, 9/12/2000, p.D2                    1\n",
       "S.W. Baker                                                                                                              1\n",
       "Name: count, Length: 5302, dtype: int64"
      ]
     },
     "execution_count": 51,
     "metadata": {},
     "output_type": "execute_result"
    }
   ],
   "source": [
    "data['Source'].value_counts() # >>>Suggested column to drop<<<"
   ]
  },
  {
   "cell_type": "code",
   "execution_count": 55,
   "id": "71841faf-9ed7-4396-b61c-2dad394a0fc0",
   "metadata": {},
   "outputs": [
    {
     "data": {
      "text/plain": [
       "pdf\n",
       "1907.10.16.R-HongKong.pdf            2\n",
       "1921.11.27.a-b-Jack.pdf              2\n",
       "1935.06.05.R-SolomonIslands.pdf      2\n",
       "1916.12.08.a-b-German.pdf            2\n",
       "1929.03.04.a-b.Roads-Aldridge.pdf    2\n",
       "                                    ..\n",
       "2003.04.19-SD.pdf                    1\n",
       "2003.04.20.a-StephenFlowers.pdf      1\n",
       "2003.04.20.b-Albright.pdf            1\n",
       "2003.04.20.c-Ryan.pdf                1\n",
       "ND-0001-Ceylon.pdf                   1\n",
       "Name: count, Length: 6789, dtype: int64"
      ]
     },
     "execution_count": 55,
     "metadata": {},
     "output_type": "execute_result"
    }
   ],
   "source": [
    "data['pdf'].value_counts() # >>>Suggested column to drop<<<\n",
    "# I would also drop this column as it is not really useful for Python and Pandas analysis"
   ]
  },
  {
   "cell_type": "code",
   "execution_count": 57,
   "id": "3b494063-2891-45a9-b3f9-0802c76c2a08",
   "metadata": {},
   "outputs": [
    {
     "data": {
      "text/plain": [
       "href formula\n",
       "http://sharkattackfile.net/spreadsheets/pdf_directory/                                       25\n",
       "http://sharkattackfile.net/spreadsheets/pdf_directory/1906.09.27.R.a&b-Munich-Swede.pdf       2\n",
       "http://sharkattackfile.net/spreadsheets/pdf_directory/1916.12.08.a-b-German.pdf               2\n",
       "http://sharkattackfile.net/spreadsheets/pdf_directory/1929.03.04.a-b.Roads-Aldridge.pdf       2\n",
       "http://sharkattackfile.net/spreadsheets/pdf_directory/1916.07.12.a-b-Stillwell-Fisher.pdf     2\n",
       "                                                                                             ..\n",
       "http://sharkattackfile.net/spreadsheets/pdf_directory/2003.04.15-Venezuela.pdf                1\n",
       "http://sharkattackfile.net/spreadsheets/pdf_directory/2003.04.18-PatrickAFB.pdf               1\n",
       "http://sharkattackfile.net/spreadsheets/pdf_directory/2003.04.19-SD.pdf                       1\n",
       "http://sharkattackfile.net/spreadsheets/pdf_directory/2003.04.20.a-StephenFlowers.pdf         1\n",
       "http://sharkattackfile.net/spreadsheets/pdf_directory/1983.10.17.a-Kalein.pdf                 1\n",
       "Name: count, Length: 6785, dtype: int64"
      ]
     },
     "execution_count": 57,
     "metadata": {},
     "output_type": "execute_result"
    }
   ],
   "source": [
    "data['href formula'].value_counts() # >>>Suggested Drop<<<\n",
    "# I checked these links and they go nowhere, this is a total up2drop column"
   ]
  },
  {
   "cell_type": "code",
   "execution_count": 61,
   "id": "5e5162df-f9a2-42d3-b3b5-97638db67e41",
   "metadata": {},
   "outputs": [
    {
     "data": {
      "text/plain": [
       "href\n",
       "http://sharkattackfile.net/spreadsheets/pdf_directory/w014.01.25-Grant.pdf           4\n",
       "http://sharkattackfile.net/spreadsheets/pdf_directory/2014.10.02.b-Vandenberg.pdf    3\n",
       "http://sharkattackfile.net/spreadsheets/pdf_directory/1934.12.23.a-b-Inman.pdf       2\n",
       "http://sharkattackfile.net/spreadsheets/pdf_directory/1907.10.16.R-HongKong.pdf      2\n",
       "http://sharkattackfile.net/spreadsheets/pdf_directory/1916.12.08.a-b-German.pdf      2\n",
       "                                                                                    ..\n",
       "http://sharkattackfile.net/spreadsheets/pdf_directory/2003.01.03-Menking.pdf         1\n",
       "http://sharkattackfile.net/spreadsheets/pdf_directory/2003.01.17-scavenging.pdf      1\n",
       "http://sharkattackfile.net/spreadsheets/pdf_directory/2003.02.08-Purcell.pdf         1\n",
       "http://sharkattackfile.net/spreadsheets/pdf_directory/2003.02.11-Plumridge.pdf       1\n",
       "http://sharkattackfile.net/spreadsheets/pdf_directoryND-0001-Ceylon.pdf              1\n",
       "Name: count, Length: 6776, dtype: int64"
      ]
     },
     "execution_count": 61,
     "metadata": {},
     "output_type": "execute_result"
    }
   ],
   "source": [
    "data['href'].value_counts() # >>>Suggested drop<<<"
   ]
  },
  {
   "cell_type": "code",
   "execution_count": 63,
   "id": "4d169570-d909-49de-ae47-d952819a5479",
   "metadata": {},
   "outputs": [
    {
     "data": {
      "text/plain": [
       "Case Number\n",
       "2021.07.23      2\n",
       "1907.10.16.R    2\n",
       "2012.09.02.b    2\n",
       "2005.04.06      2\n",
       "2009.12.18      2\n",
       "               ..\n",
       "2003.01.03      1\n",
       "2003.01.17      1\n",
       "2003.02.08      1\n",
       "2003.02.11      1\n",
       "ND.0001         1\n",
       "Name: count, Length: 6777, dtype: int64"
      ]
     },
     "execution_count": 63,
     "metadata": {},
     "output_type": "execute_result"
    }
   ],
   "source": [
    "data['Case Number'].value_counts() # This column might be interesting to take a look, as this codes might reflect dates\n",
    "# After cleaning the dataset and dropping some columns, I came to realize that this columns are indeed related to dates\n",
    "# We might consider keeping it and dropping the Date and Year columns\n",
    "# Consider, though, the percentage of NaNs for these columns:\n",
    "# 'Date': 0.36%\n",
    "# 'Year': 0.39%\n",
    "# 'Case Number': 2.45%\n",
    "\n",
    "# They all seem pretty workable with, and even though Date and Year have proportionally less NaNs, 'Case Number' seems more standardized"
   ]
  },
  {
   "cell_type": "code",
   "execution_count": 73,
   "id": "8d55989d-9477-4dcb-b651-bcbaa4f4d786",
   "metadata": {},
   "outputs": [
    {
     "data": {
      "text/plain": [
       "Case Number.1\n",
       "2012.09.02.b    2\n",
       "1913.08.27.R    2\n",
       "1980.07.00      2\n",
       "2021.12.06      2\n",
       "1920.00.00.b    2\n",
       "               ..\n",
       "2002.12.21      1\n",
       "2002.12.24      1\n",
       "2002.12.29      1\n",
       "2003.01.02      1\n",
       "ND.0001         1\n",
       "Name: count, Length: 6775, dtype: int64"
      ]
     },
     "execution_count": 73,
     "metadata": {},
     "output_type": "execute_result"
    }
   ],
   "source": [
    "data['Case Number.1'].value_counts() # The difference between the two is not clear... Is it a whole column duplicated?\n",
    "# After cleaning the dataset and dropping some columns, I came to realize that this columns are indeed duplicated\n",
    "# >>>> Suggested drop <<<<"
   ]
  },
  {
   "cell_type": "code",
   "execution_count": 67,
   "id": "f05ad9a3-b127-4b40-b191-f3815933df1f",
   "metadata": {},
   "outputs": [
    {
     "data": {
      "text/plain": [
       "original order\n",
       "6369.0    2\n",
       "569.0     2\n",
       "6802.0    1\n",
       "2272.0    1\n",
       "2262.0    1\n",
       "         ..\n",
       "4536.0    1\n",
       "4537.0    1\n",
       "4538.0    1\n",
       "4539.0    1\n",
       "2.0       1\n",
       "Name: count, Length: 6797, dtype: int64"
      ]
     },
     "execution_count": 67,
     "metadata": {},
     "output_type": "execute_result"
    }
   ],
   "source": [
    "data['original order'].value_counts() # >>> Suggested drop <<<\n",
    "# This looks like an Index, maybe they changed the older index but wanted to keep it somehow"
   ]
  },
  {
   "cell_type": "code",
   "execution_count": 69,
   "id": "70953ad8-9364-41ab-a247-5eb3bb472eaf",
   "metadata": {},
   "outputs": [
    {
     "data": {
      "text/plain": [
       "Unnamed: 21\n",
       "stopped here    1\n",
       "Name: count, dtype: int64"
      ]
     },
     "execution_count": 69,
     "metadata": {},
     "output_type": "execute_result"
    }
   ],
   "source": [
    "data['Unnamed: 21'].value_counts() # >>> Suggested drop <<<"
   ]
  },
  {
   "cell_type": "code",
   "execution_count": 71,
   "id": "4e6f8b12-cf36-4aec-be89-cfbd828da5c5",
   "metadata": {},
   "outputs": [
    {
     "data": {
      "text/plain": [
       "Unnamed: 22\n",
       "Teramo             1\n",
       "change filename    1\n",
       "Name: count, dtype: int64"
      ]
     },
     "execution_count": 71,
     "metadata": {},
     "output_type": "execute_result"
    }
   ],
   "source": [
    "data['Unnamed: 22'].value_counts() # >>> Suggested drop <<<"
   ]
  }
 ],
 "metadata": {
  "kernelspec": {
   "display_name": "Python 3 (ipykernel)",
   "language": "python",
   "name": "python3"
  },
  "language_info": {
   "codemirror_mode": {
    "name": "ipython",
    "version": 3
   },
   "file_extension": ".py",
   "mimetype": "text/x-python",
   "name": "python",
   "nbconvert_exporter": "python",
   "pygments_lexer": "ipython3",
   "version": "3.12.4"
  }
 },
 "nbformat": 4,
 "nbformat_minor": 5
}
