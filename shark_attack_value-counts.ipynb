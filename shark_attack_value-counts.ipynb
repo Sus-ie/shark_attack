{
 "cells": [
  {
   "cell_type": "code",
   "execution_count": 2,
   "id": "5ba9251d-bbfe-453d-9039-3fe34e080d05",
   "metadata": {},
   "outputs": [],
   "source": [
    "import pandas as pd\n",
    "import numpy as np\n",
    "import warnings\n",
    "warnings.filterwarnings('ignore')"
   ]
  },
  {
   "cell_type": "code",
   "execution_count": 4,
   "id": "f82eb16e-2dcf-429f-97ac-b5635254bfd9",
   "metadata": {},
   "outputs": [],
   "source": [
    "data = pd.read_excel(\"https://www.sharkattackfile.net/spreadsheets/GSAF5.xls\")"
   ]
  },
  {
   "cell_type": "code",
   "execution_count": 5,
   "id": "4dba8fca-4a26-46fc-8838-c0c99d3acf51",
   "metadata": {
    "scrolled": true
   },
   "outputs": [
    {
     "data": {
      "text/html": [
       "<div>\n",
       "<style scoped>\n",
       "    .dataframe tbody tr th:only-of-type {\n",
       "        vertical-align: middle;\n",
       "    }\n",
       "\n",
       "    .dataframe tbody tr th {\n",
       "        vertical-align: top;\n",
       "    }\n",
       "\n",
       "    .dataframe thead th {\n",
       "        text-align: right;\n",
       "    }\n",
       "</style>\n",
       "<table border=\"1\" class=\"dataframe\">\n",
       "  <thead>\n",
       "    <tr style=\"text-align: right;\">\n",
       "      <th></th>\n",
       "      <th>Date</th>\n",
       "      <th>Year</th>\n",
       "      <th>Type</th>\n",
       "      <th>Country</th>\n",
       "      <th>State</th>\n",
       "      <th>Location</th>\n",
       "      <th>Activity</th>\n",
       "      <th>Name</th>\n",
       "      <th>Sex</th>\n",
       "      <th>Age</th>\n",
       "      <th>...</th>\n",
       "      <th>Species</th>\n",
       "      <th>Source</th>\n",
       "      <th>pdf</th>\n",
       "      <th>href formula</th>\n",
       "      <th>href</th>\n",
       "      <th>Case Number</th>\n",
       "      <th>Case Number.1</th>\n",
       "      <th>original order</th>\n",
       "      <th>Unnamed: 21</th>\n",
       "      <th>Unnamed: 22</th>\n",
       "    </tr>\n",
       "  </thead>\n",
       "  <tbody>\n",
       "    <tr>\n",
       "      <th>4656</th>\n",
       "      <td>1960-1961</td>\n",
       "      <td>1960.0</td>\n",
       "      <td>Unprovoked</td>\n",
       "      <td>FIJI</td>\n",
       "      <td>Northwest of Viti Levu</td>\n",
       "      <td>Covull Reef, near Lautoka</td>\n",
       "      <td>Spearfishing</td>\n",
       "      <td>Lindsay Phillips</td>\n",
       "      <td>M</td>\n",
       "      <td>NaN</td>\n",
       "      <td>...</td>\n",
       "      <td>NaN</td>\n",
       "      <td>V.M Coppleson (1962), p.253</td>\n",
       "      <td>1960.00.00.e-Phillips.pdf</td>\n",
       "      <td>http://sharkattackfile.net/spreadsheets/pdf_di...</td>\n",
       "      <td>http://sharkattackfile.net/spreadsheets/pdf_di...</td>\n",
       "      <td>1960.00.00.e</td>\n",
       "      <td>1960.00.00.e</td>\n",
       "      <td>2286.0</td>\n",
       "      <td>NaN</td>\n",
       "      <td>NaN</td>\n",
       "    </tr>\n",
       "    <tr>\n",
       "      <th>154</th>\n",
       "      <td>19-Jul-2022</td>\n",
       "      <td>2022.0</td>\n",
       "      <td>Unprovoked</td>\n",
       "      <td>USA</td>\n",
       "      <td>Noirth Carolina</td>\n",
       "      <td>Topsail Beach, Pender County</td>\n",
       "      <td>Surfing</td>\n",
       "      <td>Erika Vreuls</td>\n",
       "      <td>F</td>\n",
       "      <td>NaN</td>\n",
       "      <td>...</td>\n",
       "      <td>NaN</td>\n",
       "      <td>C. Creswell. GSAF</td>\n",
       "      <td>2022.07.19.a-Vreuis.pdf</td>\n",
       "      <td>http://sharkattackfile.net/spreadsheets/pdf_di...</td>\n",
       "      <td>http://sharkattackfile.net/spreadsheets/pdf_di...</td>\n",
       "      <td>2022.07.19.a</td>\n",
       "      <td>2022.07.19.a</td>\n",
       "      <td>6787.0</td>\n",
       "      <td>NaN</td>\n",
       "      <td>NaN</td>\n",
       "    </tr>\n",
       "    <tr>\n",
       "      <th>2070</th>\n",
       "      <td>23-Jul-2006</td>\n",
       "      <td>2006.0</td>\n",
       "      <td>Unprovoked</td>\n",
       "      <td>USA</td>\n",
       "      <td>Texas</td>\n",
       "      <td>Sargent Beach, Matagorda County</td>\n",
       "      <td>Surf fishing</td>\n",
       "      <td>R.K. Halbert</td>\n",
       "      <td>M</td>\n",
       "      <td>NaN</td>\n",
       "      <td>...</td>\n",
       "      <td>Bull shark, 4' to 5'</td>\n",
       "      <td>KHOU.com</td>\n",
       "      <td>2006.07.23-Halbert.pdf</td>\n",
       "      <td>http://sharkattackfile.net/spreadsheets/pdf_di...</td>\n",
       "      <td>http://sharkattackfile.net/spreadsheets/pdf_di...</td>\n",
       "      <td>2006.07.23</td>\n",
       "      <td>2006.07.23</td>\n",
       "      <td>4872.0</td>\n",
       "      <td>NaN</td>\n",
       "      <td>NaN</td>\n",
       "    </tr>\n",
       "    <tr>\n",
       "      <th>1064</th>\n",
       "      <td>08-Feb-2015</td>\n",
       "      <td>2015.0</td>\n",
       "      <td>Unprovoked</td>\n",
       "      <td>AUSTRALIA</td>\n",
       "      <td>New South Wales</td>\n",
       "      <td>Seven Mile Beach, Byron Bay</td>\n",
       "      <td>Surfing</td>\n",
       "      <td>Jacob Reitman</td>\n",
       "      <td>M</td>\n",
       "      <td>35</td>\n",
       "      <td>...</td>\n",
       "      <td>2 m to  3 m shark</td>\n",
       "      <td>The Telegraph, 2/8/2015</td>\n",
       "      <td>2015.02.08-Reitman.pdf</td>\n",
       "      <td>http://sharkattackfile.net/spreadsheets/pdf_di...</td>\n",
       "      <td>http://sharkattackfile.net/spreadsheets/pdf_di...</td>\n",
       "      <td>2015.02.08</td>\n",
       "      <td>2015.02.08</td>\n",
       "      <td>5879.0</td>\n",
       "      <td>NaN</td>\n",
       "      <td>NaN</td>\n",
       "    </tr>\n",
       "    <tr>\n",
       "      <th>5306</th>\n",
       "      <td>14-May-1943</td>\n",
       "      <td>1943.0</td>\n",
       "      <td>Sea Disaster</td>\n",
       "      <td>AUSTRALIA</td>\n",
       "      <td>Queensland</td>\n",
       "      <td>Off Brisbane</td>\n",
       "      <td>Hospital Ship Centaur torpedoed &amp; sunk by the ...</td>\n",
       "      <td>unknown</td>\n",
       "      <td>M</td>\n",
       "      <td>F</td>\n",
       "      <td>...</td>\n",
       "      <td>NaN</td>\n",
       "      <td>The Age, 5/19/1953</td>\n",
       "      <td>1943.05.14-Centaur.pdf</td>\n",
       "      <td>http://sharkattackfile.net/spreadsheets/pdf_di...</td>\n",
       "      <td>http://sharkattackfile.net/spreadsheets/pdf_di...</td>\n",
       "      <td>1943.05.14</td>\n",
       "      <td>1943.05.14</td>\n",
       "      <td>1636.0</td>\n",
       "      <td>NaN</td>\n",
       "      <td>NaN</td>\n",
       "    </tr>\n",
       "    <tr>\n",
       "      <th>2220</th>\n",
       "      <td>12-Mar-2005</td>\n",
       "      <td>2005.0</td>\n",
       "      <td>Provoked</td>\n",
       "      <td>USA</td>\n",
       "      <td>New Mexico</td>\n",
       "      <td>Albuquerue Aquarium, Albuquerue</td>\n",
       "      <td>Diving in aquarium display tank</td>\n",
       "      <td>Ken Pitts</td>\n",
       "      <td>M</td>\n",
       "      <td>45</td>\n",
       "      <td>...</td>\n",
       "      <td>Sandtiger shark, 2.1 m [7']</td>\n",
       "      <td>H. Casman; T. Dukart, KOBTV</td>\n",
       "      <td>2005.03.12-Pitts.pdf</td>\n",
       "      <td>http://sharkattackfile.net/spreadsheets/pdf_di...</td>\n",
       "      <td>http://sharkattackfile.net/spreadsheets/pdf_di...</td>\n",
       "      <td>2005.03.12</td>\n",
       "      <td>2005.03.12</td>\n",
       "      <td>4722.0</td>\n",
       "      <td>NaN</td>\n",
       "      <td>NaN</td>\n",
       "    </tr>\n",
       "    <tr>\n",
       "      <th>6589</th>\n",
       "      <td>Apr-1863</td>\n",
       "      <td>1863.0</td>\n",
       "      <td>Unprovoked</td>\n",
       "      <td>AUSTRALIA</td>\n",
       "      <td>Queensland</td>\n",
       "      <td>Caloundra Heads</td>\n",
       "      <td>Launching a boat</td>\n",
       "      <td>Mr. Barnsfield</td>\n",
       "      <td>M</td>\n",
       "      <td>NaN</td>\n",
       "      <td>...</td>\n",
       "      <td>2 sharks</td>\n",
       "      <td>Brisbane Courier, 6/12/1889, p.9</td>\n",
       "      <td>1863.04.00-Barnsfield.pdf</td>\n",
       "      <td>http://sharkattackfile.net/spreadsheets/pdf_di...</td>\n",
       "      <td>http://sharkattackfile.net/spreadsheets/pdf_di...</td>\n",
       "      <td>1863.04.00</td>\n",
       "      <td>1863.04.00</td>\n",
       "      <td>354.0</td>\n",
       "      <td>NaN</td>\n",
       "      <td>NaN</td>\n",
       "    </tr>\n",
       "    <tr>\n",
       "      <th>6742</th>\n",
       "      <td>Reported 30-Dec-1823</td>\n",
       "      <td>1823.0</td>\n",
       "      <td>Invalid</td>\n",
       "      <td>JAMAICA</td>\n",
       "      <td>NaN</td>\n",
       "      <td>NaN</td>\n",
       "      <td>NaN</td>\n",
       "      <td>male</td>\n",
       "      <td>NaN</td>\n",
       "      <td>NaN</td>\n",
       "      <td>...</td>\n",
       "      <td>Shark involvement prior to death unconfirmed</td>\n",
       "      <td>NaN</td>\n",
       "      <td>1823.12.30.R-Jamaica.pdf</td>\n",
       "      <td>http://sharkattackfile.net/spreadsheets/pdf_di...</td>\n",
       "      <td>http://sharkattackfile.net/spreadsheets/pdf_di...</td>\n",
       "      <td>1823.12.30.R</td>\n",
       "      <td>1823.12.30.R</td>\n",
       "      <td>201.0</td>\n",
       "      <td>NaN</td>\n",
       "      <td>NaN</td>\n",
       "    </tr>\n",
       "    <tr>\n",
       "      <th>3071</th>\n",
       "      <td>30-Jan-1994</td>\n",
       "      <td>1994.0</td>\n",
       "      <td>Unprovoked</td>\n",
       "      <td>SOUTH AFRICA</td>\n",
       "      <td>Eastern Cape Province</td>\n",
       "      <td>Nahoon Beach, East London</td>\n",
       "      <td>Windsurfing</td>\n",
       "      <td>Andy Austin</td>\n",
       "      <td>M</td>\n",
       "      <td>44</td>\n",
       "      <td>...</td>\n",
       "      <td>NaN</td>\n",
       "      <td>A. Gifford, GSAF</td>\n",
       "      <td>1994.01.30-Austin.pdf</td>\n",
       "      <td>http://sharkattackfile.net/spreadsheets/pdf_di...</td>\n",
       "      <td>http://sharkattackfile.net/spreadsheets/pdf_di...</td>\n",
       "      <td>1994.01.30</td>\n",
       "      <td>1994.01.30</td>\n",
       "      <td>3871.0</td>\n",
       "      <td>NaN</td>\n",
       "      <td>NaN</td>\n",
       "    </tr>\n",
       "    <tr>\n",
       "      <th>3025</th>\n",
       "      <td>09-Dec-1994</td>\n",
       "      <td>1994.0</td>\n",
       "      <td>Sea Disaster</td>\n",
       "      <td>USA</td>\n",
       "      <td>NaN</td>\n",
       "      <td>1200 miles east of New Jersey</td>\n",
       "      <td>NaN</td>\n",
       "      <td>The Salvador Allende sank in heavy seas with t...</td>\n",
       "      <td>M</td>\n",
       "      <td>NaN</td>\n",
       "      <td>...</td>\n",
       "      <td>NaN</td>\n",
       "      <td>New York Times, 12/11/1994 and Rotomedia.com</td>\n",
       "      <td>1994.12.09.c-SalvadorAllende. pdf</td>\n",
       "      <td>http://sharkattackfile.net/spreadsheets/pdf_di...</td>\n",
       "      <td>http://sharkattackfile.net/spreadsheets/pdf_di...</td>\n",
       "      <td>1994.12.09.c</td>\n",
       "      <td>1994.1.2.09.c</td>\n",
       "      <td>3917.0</td>\n",
       "      <td>NaN</td>\n",
       "      <td>NaN</td>\n",
       "    </tr>\n",
       "  </tbody>\n",
       "</table>\n",
       "<p>10 rows × 23 columns</p>\n",
       "</div>"
      ],
      "text/plain": [
       "                      Date    Year          Type       Country  \\\n",
       "4656             1960-1961  1960.0    Unprovoked          FIJI   \n",
       "154            19-Jul-2022  2022.0    Unprovoked           USA   \n",
       "2070           23-Jul-2006  2006.0    Unprovoked           USA   \n",
       "1064           08-Feb-2015  2015.0    Unprovoked     AUSTRALIA   \n",
       "5306           14-May-1943  1943.0  Sea Disaster     AUSTRALIA   \n",
       "2220           12-Mar-2005  2005.0      Provoked           USA   \n",
       "6589              Apr-1863  1863.0    Unprovoked     AUSTRALIA   \n",
       "6742  Reported 30-Dec-1823  1823.0       Invalid       JAMAICA   \n",
       "3071           30-Jan-1994  1994.0    Unprovoked  SOUTH AFRICA   \n",
       "3025           09-Dec-1994  1994.0  Sea Disaster           USA   \n",
       "\n",
       "                       State                         Location  \\\n",
       "4656  Northwest of Viti Levu        Covull Reef, near Lautoka   \n",
       "154          Noirth Carolina     Topsail Beach, Pender County   \n",
       "2070                   Texas  Sargent Beach, Matagorda County   \n",
       "1064         New South Wales      Seven Mile Beach, Byron Bay   \n",
       "5306              Queensland                     Off Brisbane   \n",
       "2220              New Mexico  Albuquerue Aquarium, Albuquerue   \n",
       "6589              Queensland                  Caloundra Heads   \n",
       "6742                     NaN                              NaN   \n",
       "3071   Eastern Cape Province        Nahoon Beach, East London   \n",
       "3025                     NaN    1200 miles east of New Jersey   \n",
       "\n",
       "                                               Activity  \\\n",
       "4656                                       Spearfishing   \n",
       "154                                             Surfing   \n",
       "2070                                       Surf fishing   \n",
       "1064                                            Surfing   \n",
       "5306  Hospital Ship Centaur torpedoed & sunk by the ...   \n",
       "2220                    Diving in aquarium display tank   \n",
       "6589                                   Launching a boat   \n",
       "6742                                                NaN   \n",
       "3071                                        Windsurfing   \n",
       "3025                                                NaN   \n",
       "\n",
       "                                                   Name  Sex  Age  ...  \\\n",
       "4656                                   Lindsay Phillips    M  NaN  ...   \n",
       "154                                        Erika Vreuls    F  NaN  ...   \n",
       "2070                                       R.K. Halbert    M  NaN  ...   \n",
       "1064                                      Jacob Reitman    M   35  ...   \n",
       "5306                                            unknown    M    F  ...   \n",
       "2220                                          Ken Pitts    M   45  ...   \n",
       "6589                                     Mr. Barnsfield    M  NaN  ...   \n",
       "6742                                               male  NaN  NaN  ...   \n",
       "3071                                        Andy Austin    M   44  ...   \n",
       "3025  The Salvador Allende sank in heavy seas with t...    M  NaN  ...   \n",
       "\n",
       "                                          Species   \\\n",
       "4656                                           NaN   \n",
       "154                                            NaN   \n",
       "2070                         Bull shark, 4' to 5'    \n",
       "1064                             2 m to  3 m shark   \n",
       "5306                                           NaN   \n",
       "2220                  Sandtiger shark, 2.1 m [7']    \n",
       "6589                                      2 sharks   \n",
       "6742  Shark involvement prior to death unconfirmed   \n",
       "3071                                           NaN   \n",
       "3025                                           NaN   \n",
       "\n",
       "                                             Source  \\\n",
       "4656                    V.M Coppleson (1962), p.253   \n",
       "154                               C. Creswell. GSAF   \n",
       "2070                                       KHOU.com   \n",
       "1064                        The Telegraph, 2/8/2015   \n",
       "5306                             The Age, 5/19/1953   \n",
       "2220                    H. Casman; T. Dukart, KOBTV   \n",
       "6589               Brisbane Courier, 6/12/1889, p.9   \n",
       "6742                                            NaN   \n",
       "3071                               A. Gifford, GSAF   \n",
       "3025  New York Times, 12/11/1994 and Rotomedia.com    \n",
       "\n",
       "                                    pdf  \\\n",
       "4656          1960.00.00.e-Phillips.pdf   \n",
       "154             2022.07.19.a-Vreuis.pdf   \n",
       "2070             2006.07.23-Halbert.pdf   \n",
       "1064             2015.02.08-Reitman.pdf   \n",
       "5306             1943.05.14-Centaur.pdf   \n",
       "2220               2005.03.12-Pitts.pdf   \n",
       "6589          1863.04.00-Barnsfield.pdf   \n",
       "6742           1823.12.30.R-Jamaica.pdf   \n",
       "3071              1994.01.30-Austin.pdf   \n",
       "3025  1994.12.09.c-SalvadorAllende. pdf   \n",
       "\n",
       "                                           href formula  \\\n",
       "4656  http://sharkattackfile.net/spreadsheets/pdf_di...   \n",
       "154   http://sharkattackfile.net/spreadsheets/pdf_di...   \n",
       "2070  http://sharkattackfile.net/spreadsheets/pdf_di...   \n",
       "1064  http://sharkattackfile.net/spreadsheets/pdf_di...   \n",
       "5306  http://sharkattackfile.net/spreadsheets/pdf_di...   \n",
       "2220  http://sharkattackfile.net/spreadsheets/pdf_di...   \n",
       "6589  http://sharkattackfile.net/spreadsheets/pdf_di...   \n",
       "6742  http://sharkattackfile.net/spreadsheets/pdf_di...   \n",
       "3071  http://sharkattackfile.net/spreadsheets/pdf_di...   \n",
       "3025  http://sharkattackfile.net/spreadsheets/pdf_di...   \n",
       "\n",
       "                                                   href   Case Number  \\\n",
       "4656  http://sharkattackfile.net/spreadsheets/pdf_di...  1960.00.00.e   \n",
       "154   http://sharkattackfile.net/spreadsheets/pdf_di...  2022.07.19.a   \n",
       "2070  http://sharkattackfile.net/spreadsheets/pdf_di...    2006.07.23   \n",
       "1064  http://sharkattackfile.net/spreadsheets/pdf_di...    2015.02.08   \n",
       "5306  http://sharkattackfile.net/spreadsheets/pdf_di...    1943.05.14   \n",
       "2220  http://sharkattackfile.net/spreadsheets/pdf_di...    2005.03.12   \n",
       "6589  http://sharkattackfile.net/spreadsheets/pdf_di...    1863.04.00   \n",
       "6742  http://sharkattackfile.net/spreadsheets/pdf_di...  1823.12.30.R   \n",
       "3071  http://sharkattackfile.net/spreadsheets/pdf_di...    1994.01.30   \n",
       "3025  http://sharkattackfile.net/spreadsheets/pdf_di...  1994.12.09.c   \n",
       "\n",
       "      Case Number.1 original order Unnamed: 21 Unnamed: 22  \n",
       "4656   1960.00.00.e         2286.0         NaN         NaN  \n",
       "154    2022.07.19.a         6787.0         NaN         NaN  \n",
       "2070     2006.07.23         4872.0         NaN         NaN  \n",
       "1064     2015.02.08         5879.0         NaN         NaN  \n",
       "5306     1943.05.14         1636.0         NaN         NaN  \n",
       "2220     2005.03.12         4722.0         NaN         NaN  \n",
       "6589     1863.04.00          354.0         NaN         NaN  \n",
       "6742   1823.12.30.R          201.0         NaN         NaN  \n",
       "3071     1994.01.30         3871.0         NaN         NaN  \n",
       "3025  1994.1.2.09.c         3917.0         NaN         NaN  \n",
       "\n",
       "[10 rows x 23 columns]"
      ]
     },
     "execution_count": 5,
     "metadata": {},
     "output_type": "execute_result"
    }
   ],
   "source": [
    "data.sample(10)"
   ]
  },
  {
   "cell_type": "code",
   "execution_count": 6,
   "id": "ddcc9a5f-0075-4a65-8993-41b46249527a",
   "metadata": {},
   "outputs": [
    {
     "data": {
      "text/plain": [
       "Date\n",
       "1957           9\n",
       "1942           8\n",
       "1958           7\n",
       "No date        6\n",
       "1956           6\n",
       "              ..\n",
       "07-Jul-2000    1\n",
       "09-Jul-2000    1\n",
       "10-Jul-2000    1\n",
       "12-Jul-2000    1\n",
       "1845-1853      1\n",
       "Name: count, Length: 6003, dtype: int64"
      ]
     },
     "execution_count": 6,
     "metadata": {},
     "output_type": "execute_result"
    }
   ],
   "source": [
    "data['Date'].value_counts()"
   ]
  },
  {
   "cell_type": "code",
   "execution_count": 7,
   "id": "dc3253db-9ca2-40d6-a54c-1e864e7a93f4",
   "metadata": {
    "scrolled": true
   },
   "outputs": [
    {
     "data": {
      "text/plain": [
       "Year\n",
       "2015.0    143\n",
       "2017.0    139\n",
       "2016.0    131\n",
       "0.0       129\n",
       "2011.0    128\n",
       "         ... \n",
       "1784.0      1\n",
       "1783.0      1\n",
       "1780.0      1\n",
       "1779.0      1\n",
       "1819.0      1\n",
       "Name: count, Length: 259, dtype: int64"
      ]
     },
     "execution_count": 7,
     "metadata": {},
     "output_type": "execute_result"
    }
   ],
   "source": [
    "data['Year'].value_counts() # We could use this one"
   ]
  },
  {
   "cell_type": "code",
   "execution_count": 64,
   "id": "5e316a45-70ec-4875-b387-1421949de4d4",
   "metadata": {},
   "outputs": [
    {
     "data": {
      "text/plain": [
       "count    6942.000000\n",
       "mean     1934.403342\n",
       "std       272.920956\n",
       "min         0.000000\n",
       "25%      1947.000000\n",
       "50%      1985.000000\n",
       "75%      2009.000000\n",
       "max      2024.000000\n",
       "Name: Year, dtype: float64"
      ]
     },
     "execution_count": 64,
     "metadata": {},
     "output_type": "execute_result"
    }
   ],
   "source": [
    "data['Year'].describe()"
   ]
  },
  {
   "cell_type": "code",
   "execution_count": 8,
   "id": "d8cd330c-31de-4dae-a788-99e6a4bfc9b2",
   "metadata": {},
   "outputs": [
    {
     "data": {
      "text/plain": [
       "Type\n",
       "Unprovoked             5107\n",
       "Provoked                635\n",
       "Invalid                 552\n",
       "Watercraft              355\n",
       "Sea Disaster            242\n",
       "Questionable             22\n",
       "Boat                      7\n",
       " Provoked                 2\n",
       "?                         1\n",
       "Unconfirmed               1\n",
       "Unverified                1\n",
       "Under investigation       1\n",
       "Name: count, dtype: int64"
      ]
     },
     "execution_count": 8,
     "metadata": {},
     "output_type": "execute_result"
    }
   ],
   "source": [
    "data['Type'].value_counts() # Bringing down to provoked or unprovoked"
   ]
  },
  {
   "cell_type": "code",
   "execution_count": 9,
   "id": "07f53c86-7d28-4843-ba4b-baebeafebc57",
   "metadata": {},
   "outputs": [
    {
     "data": {
      "text/plain": [
       "Country\n",
       "USA                   2538\n",
       "AUSTRALIA             1481\n",
       "SOUTH AFRICA           597\n",
       "NEW ZEALAND            144\n",
       "BAHAMAS                136\n",
       "                      ... \n",
       "PUERTO RICO              1\n",
       "RED SEA                  1\n",
       "Coral Sea                1\n",
       "BRITISH ISLES            1\n",
       "CEYLON (SRI LANKA)       1\n",
       "Name: count, Length: 225, dtype: int64"
      ]
     },
     "execution_count": 9,
     "metadata": {},
     "output_type": "execute_result"
    }
   ],
   "source": [
    "data['Country'].value_counts()"
   ]
  },
  {
   "cell_type": "code",
   "execution_count": 10,
   "id": "61e0f17a-d5ef-496b-b8eb-87ea69218986",
   "metadata": {},
   "outputs": [
    {
     "data": {
      "text/plain": [
       "State\n",
       "Florida                1178\n",
       "New South Wales         521\n",
       "Queensland              347\n",
       "Hawaii                  341\n",
       "California              323\n",
       "                       ... \n",
       "Shizuoka Prefecture       1\n",
       "Brindisi Province         1\n",
       "Kagawa Prefecture         1\n",
       " Upolu Island             1\n",
       "Moala Island              1\n",
       "Name: count, Length: 902, dtype: int64"
      ]
     },
     "execution_count": 10,
     "metadata": {},
     "output_type": "execute_result"
    }
   ],
   "source": [
    "data['State'].value_counts()"
   ]
  },
  {
   "cell_type": "code",
   "execution_count": 11,
   "id": "f84f964b-1df8-4b56-a525-cdc4933fc1dd",
   "metadata": {},
   "outputs": [
    {
     "data": {
      "text/plain": [
       "Location\n",
       "New Smyrna Beach, Volusia County                            191\n",
       "Daytona Beach, Volusia County                                31\n",
       "Ponce Inlet, Volusia County                                  28\n",
       "Myrtle Beach, Horry County                                   22\n",
       "Melbourne Beach, Brevard County                              20\n",
       "                                                           ... \n",
       "Limay                                                         1\n",
       "Pau Amarelo Beach, Paulista District (17 km from Recife)      1\n",
       "Melbourne Beach, Brevard County                               1\n",
       "Shepard Park, Cocoa Beach, Brevard County                     1\n",
       "Below the English fort, Trincomalee                           1\n",
       "Name: count, Length: 4514, dtype: int64"
      ]
     },
     "execution_count": 11,
     "metadata": {},
     "output_type": "execute_result"
    }
   ],
   "source": [
    "data['Location'].value_counts()"
   ]
  },
  {
   "cell_type": "code",
   "execution_count": 12,
   "id": "079702ff-8731-42a1-8308-78ab668209bb",
   "metadata": {},
   "outputs": [
    {
     "data": {
      "text/plain": [
       "Activity\n",
       "Surfing                                                        1121\n",
       "Swimming                                                        976\n",
       "Fishing                                                         488\n",
       "Spearfishing                                                    382\n",
       "Wading                                                          174\n",
       "                                                               ... \n",
       "Fishing boat swamped in a storm                                   1\n",
       "Free diving (but on surface)                                      1\n",
       "Adrift after the sinking of the motor yacht Princess Dianne       1\n",
       "Free diving for abalone (submerged)                               1\n",
       "Wreck of  large double sailing canoe                              1\n",
       "Name: count, Length: 1587, dtype: int64"
      ]
     },
     "execution_count": 12,
     "metadata": {},
     "output_type": "execute_result"
    }
   ],
   "source": [
    "data['Activity'].value_counts()"
   ]
  },
  {
   "cell_type": "code",
   "execution_count": 22,
   "id": "02d16a04-a6fb-44d0-9be4-09bd47bc7175",
   "metadata": {},
   "outputs": [
    {
     "data": {
      "text/plain": [
       "Name\n",
       "male                680\n",
       "female              136\n",
       "boy                  23\n",
       "2 males              17\n",
       "boat                 14\n",
       "                   ... \n",
       "John McGovern         1\n",
       "Martin Gunda          1\n",
       "Joseph Krone          1\n",
       "Deborah Franzman      1\n",
       "Jules Patterson       1\n",
       "Name: count, Length: 5683, dtype: int64"
      ]
     },
     "execution_count": 22,
     "metadata": {},
     "output_type": "execute_result"
    }
   ],
   "source": [
    "data['Name'].value_counts() # >>>Suggest drop<<<\n",
    "# Victims names are unimportant for basic analysis\n",
    "# Also, a considerable ammount of the data is either NaN or misinformation (like the sex, for example)"
   ]
  },
  {
   "cell_type": "code",
   "execution_count": 24,
   "id": "01a103ad-ba42-44de-b161-efe96106722a",
   "metadata": {
    "scrolled": true
   },
   "outputs": [
    {
     "data": {
      "text/plain": [
       "Sex\n",
       "M        5578\n",
       "F         779\n",
       "M           2\n",
       "N           2\n",
       " M          1\n",
       "lli         1\n",
       "M x 2       1\n",
       ".           1\n",
       "Name: count, dtype: int64"
      ]
     },
     "execution_count": 24,
     "metadata": {},
     "output_type": "execute_result"
    }
   ],
   "source": [
    "data['Sex'].value_counts() # This one looks like a worthy column!! :D"
   ]
  },
  {
   "cell_type": "code",
   "execution_count": 26,
   "id": "684bc0db-1c5c-46cd-a3de-aff5c6de19b9",
   "metadata": {},
   "outputs": [
    {
     "data": {
      "text/plain": [
       "Age\n",
       "19          89\n",
       "16          89\n",
       "17          88\n",
       "17          85\n",
       "15          84\n",
       "            ..\n",
       "84           1\n",
       "36 & 26      1\n",
       "77           1\n",
       "Teens        1\n",
       "13 or 14     1\n",
       "Name: count, Length: 243, dtype: int64"
      ]
     },
     "execution_count": 26,
     "metadata": {},
     "output_type": "execute_result"
    }
   ],
   "source": [
    "data['Age'].value_counts() # Also seems like a very interesting column to keep\n",
    "# Although, half of it (43.32%) is NaN >>>filling consideration<<<"
   ]
  },
  {
   "cell_type": "code",
   "execution_count": 28,
   "id": "98691684-5fc7-4374-94c8-dc845b2951b0",
   "metadata": {},
   "outputs": [
    {
     "data": {
      "text/plain": [
       "Injury\n",
       "FATAL                                                                              863\n",
       "Foot bitten                                                                        100\n",
       "Survived                                                                            97\n",
       "No injury                                                                           85\n",
       "Leg bitten                                                                          81\n",
       "                                                                                  ... \n",
       "Right calf & heel bitten                                                             1\n",
       "Multiple bites to foot after jumping off surfboard onto shark PROVOKED INCIDENT      1\n",
       "Shallow  lacerations to left  thigh PROVOKED INCIDENT                                1\n",
       "Bitten on finger                                                                     1\n",
       "FATAL. \"Shark bit him in half, carrying away the lower extremities\"                  1\n",
       "Name: count, Length: 4079, dtype: int64"
      ]
     },
     "execution_count": 28,
     "metadata": {},
     "output_type": "execute_result"
    }
   ],
   "source": [
    "data['Injury'].value_counts() # This is a tricky column, as it's data is higly nominal"
   ]
  },
  {
   "cell_type": "code",
   "execution_count": 70,
   "id": "d18ddd35-d31c-41d8-9570-54d77ed78f0e",
   "metadata": {},
   "outputs": [
    {
     "ename": "NameError",
     "evalue": "name 'propna' is not defined",
     "output_type": "error",
     "traceback": [
      "\u001b[1;31m---------------------------------------------------------------------------\u001b[0m",
      "\u001b[1;31mNameError\u001b[0m                                 Traceback (most recent call last)",
      "Cell \u001b[1;32mIn[70], line 4\u001b[0m\n\u001b[0;32m      1\u001b[0m data[\u001b[38;5;124m'\u001b[39m\u001b[38;5;124mTime\u001b[39m\u001b[38;5;124m'\u001b[39m]\u001b[38;5;241m.\u001b[39mvalue_counts() \u001b[38;5;66;03m# This column is quite interesting to deepen the analysis\u001b[39;00m\n\u001b[0;32m      2\u001b[0m \u001b[38;5;66;03m# But not highly interesting for shallow analysis\u001b[39;00m\n\u001b[1;32m----> 4\u001b[0m propna(data[\u001b[38;5;124m'\u001b[39m\u001b[38;5;124mTime\u001b[39m\u001b[38;5;124m'\u001b[39m])\n",
      "\u001b[1;31mNameError\u001b[0m: name 'propna' is not defined"
     ]
    }
   ],
   "source": [
    "data['Time'].value_counts() # This column is quite interesting to deepen the analysis\n",
    "# But not highly interesting for shallow analysis\n",
    "\n",
    "propna(data['Time'])"
   ]
  },
  {
   "cell_type": "code",
   "execution_count": 32,
   "id": "e5997321-ef4b-4919-8fb0-97b3e6f6605f",
   "metadata": {},
   "outputs": [
    {
     "data": {
      "text/plain": [
       "Species \n",
       "White shark                                                                                                                      194\n",
       "Shark involvement prior to death was not confirmed                                                                               105\n",
       "Invalid                                                                                                                          102\n",
       "Shark involvement not confirmed                                                                                                   92\n",
       "Tiger shark                                                                                                                       89\n",
       "                                                                                                                                ... \n",
       "1.2 m to 1.8 m [4' to 6'] shark                                                                                                    1\n",
       "Grey nurse shark, 3 m female                                                                                                       1\n",
       "Porbeagle shark, 3 m [10']rk                                                                                                       1\n",
       "White shark, 4.5 m [14'9\"]                                                                                                         1\n",
       "Said to involve a grey nurse shark that leapt out of the water and  seized the boy but species identification is questionable      1\n",
       "Name: count, Length: 1675, dtype: int64"
      ]
     },
     "execution_count": 32,
     "metadata": {},
     "output_type": "execute_result"
    }
   ],
   "source": [
    "data['Species '].value_counts() # Please note that there is an unnecessary space at the end of the name of the column"
   ]
  },
  {
   "cell_type": "code",
   "execution_count": 34,
   "id": "e15313b4-6d20-4723-b375-e5a60abaf548",
   "metadata": {},
   "outputs": [
    {
     "data": {
      "text/plain": [
       "Source\n",
       "K. McMurray, TrackingSharks.com                                                                                       131\n",
       "C. Moore, GSAF                                                                                                        105\n",
       "C. Creswell, GSAF                                                                                                     101\n",
       "S. Petersohn, GSAF                                                                                                     82\n",
       "B. Myatt, GSAF                                                                                                         59\n",
       "                                                                                                                     ... \n",
       "S. Petersohn, GSAF; M. I. Johnson,  Daytona Beach News Journal, 9/19/2000, p.1A; Orlando Sentinel, 9/9/2000 , p.D2      1\n",
       "E. Matechi; A. Mbogora                                                                                                  1\n",
       "Fort Pierce Tribune, 9/12/2000                                                                                          1\n",
       "S. Petersohn, GSAF; Daytona  Beach News Journal, 9/12/2000, p.1.A; Orlando Sentinel, 9/12/2000, p.D2                    1\n",
       "S.W. Baker                                                                                                              1\n",
       "Name: count, Length: 5302, dtype: int64"
      ]
     },
     "execution_count": 34,
     "metadata": {},
     "output_type": "execute_result"
    }
   ],
   "source": [
    "data['Source'].value_counts() # >>>Suggested column to drop<<<"
   ]
  },
  {
   "cell_type": "code",
   "execution_count": 36,
   "id": "71841faf-9ed7-4396-b61c-2dad394a0fc0",
   "metadata": {},
   "outputs": [
    {
     "data": {
      "text/plain": [
       "pdf\n",
       "1907.10.16.R-HongKong.pdf            2\n",
       "1921.11.27.a-b-Jack.pdf              2\n",
       "1935.06.05.R-SolomonIslands.pdf      2\n",
       "1916.12.08.a-b-German.pdf            2\n",
       "1929.03.04.a-b.Roads-Aldridge.pdf    2\n",
       "                                    ..\n",
       "2003.04.19-SD.pdf                    1\n",
       "2003.04.20.a-StephenFlowers.pdf      1\n",
       "2003.04.20.b-Albright.pdf            1\n",
       "2003.04.20.c-Ryan.pdf                1\n",
       "ND-0001-Ceylon.pdf                   1\n",
       "Name: count, Length: 6789, dtype: int64"
      ]
     },
     "execution_count": 36,
     "metadata": {},
     "output_type": "execute_result"
    }
   ],
   "source": [
    "data['pdf'].value_counts() # >>>Suggested column to drop<<<\n",
    "# I would also drop this column as it is not really useful for Python and Pandas analysis"
   ]
  },
  {
   "cell_type": "code",
   "execution_count": 38,
   "id": "3b494063-2891-45a9-b3f9-0802c76c2a08",
   "metadata": {},
   "outputs": [
    {
     "data": {
      "text/plain": [
       "href formula\n",
       "http://sharkattackfile.net/spreadsheets/pdf_directory/                                       25\n",
       "http://sharkattackfile.net/spreadsheets/pdf_directory/1906.09.27.R.a&b-Munich-Swede.pdf       2\n",
       "http://sharkattackfile.net/spreadsheets/pdf_directory/1916.12.08.a-b-German.pdf               2\n",
       "http://sharkattackfile.net/spreadsheets/pdf_directory/1929.03.04.a-b.Roads-Aldridge.pdf       2\n",
       "http://sharkattackfile.net/spreadsheets/pdf_directory/1916.07.12.a-b-Stillwell-Fisher.pdf     2\n",
       "                                                                                             ..\n",
       "http://sharkattackfile.net/spreadsheets/pdf_directory/2003.04.15-Venezuela.pdf                1\n",
       "http://sharkattackfile.net/spreadsheets/pdf_directory/2003.04.18-PatrickAFB.pdf               1\n",
       "http://sharkattackfile.net/spreadsheets/pdf_directory/2003.04.19-SD.pdf                       1\n",
       "http://sharkattackfile.net/spreadsheets/pdf_directory/2003.04.20.a-StephenFlowers.pdf         1\n",
       "http://sharkattackfile.net/spreadsheets/pdf_directory/1983.10.17.a-Kalein.pdf                 1\n",
       "Name: count, Length: 6785, dtype: int64"
      ]
     },
     "execution_count": 38,
     "metadata": {},
     "output_type": "execute_result"
    }
   ],
   "source": [
    "data['href formula'].value_counts() # >>>Suggested Drop<<<\n",
    "# I checked these links and they go nowhere, this is a total up2drop column"
   ]
  },
  {
   "cell_type": "code",
   "execution_count": 40,
   "id": "5e5162df-f9a2-42d3-b3b5-97638db67e41",
   "metadata": {},
   "outputs": [
    {
     "data": {
      "text/plain": [
       "href\n",
       "http://sharkattackfile.net/spreadsheets/pdf_directory/w014.01.25-Grant.pdf           4\n",
       "http://sharkattackfile.net/spreadsheets/pdf_directory/2014.10.02.b-Vandenberg.pdf    3\n",
       "http://sharkattackfile.net/spreadsheets/pdf_directory/1934.12.23.a-b-Inman.pdf       2\n",
       "http://sharkattackfile.net/spreadsheets/pdf_directory/1907.10.16.R-HongKong.pdf      2\n",
       "http://sharkattackfile.net/spreadsheets/pdf_directory/1916.12.08.a-b-German.pdf      2\n",
       "                                                                                    ..\n",
       "http://sharkattackfile.net/spreadsheets/pdf_directory/2003.01.03-Menking.pdf         1\n",
       "http://sharkattackfile.net/spreadsheets/pdf_directory/2003.01.17-scavenging.pdf      1\n",
       "http://sharkattackfile.net/spreadsheets/pdf_directory/2003.02.08-Purcell.pdf         1\n",
       "http://sharkattackfile.net/spreadsheets/pdf_directory/2003.02.11-Plumridge.pdf       1\n",
       "http://sharkattackfile.net/spreadsheets/pdf_directoryND-0001-Ceylon.pdf              1\n",
       "Name: count, Length: 6776, dtype: int64"
      ]
     },
     "execution_count": 40,
     "metadata": {},
     "output_type": "execute_result"
    }
   ],
   "source": [
    "data['href'].value_counts() # >>>Suggested drop<<<"
   ]
  },
  {
   "cell_type": "code",
   "execution_count": 42,
   "id": "4d169570-d909-49de-ae47-d952819a5479",
   "metadata": {},
   "outputs": [
    {
     "data": {
      "text/plain": [
       "Case Number\n",
       "2021.07.23      2\n",
       "1907.10.16.R    2\n",
       "2012.09.02.b    2\n",
       "2005.04.06      2\n",
       "2009.12.18      2\n",
       "               ..\n",
       "2003.01.03      1\n",
       "2003.01.17      1\n",
       "2003.02.08      1\n",
       "2003.02.11      1\n",
       "ND.0001         1\n",
       "Name: count, Length: 6777, dtype: int64"
      ]
     },
     "execution_count": 42,
     "metadata": {},
     "output_type": "execute_result"
    }
   ],
   "source": [
    "data['Case Number'].value_counts() # This column might be interesting to take a look, as this codes might reflect dates\n",
    "# After cleaning the dataset and dropping some columns, I came to realize that this columns are indeed related to dates\n",
    "# We might consider keeping it and dropping the Date and Year columns\n",
    "# Consider, though, the percentage of NaNs for these columns:\n",
    "# 'Date': 0.36%\n",
    "# 'Year': 0.39%\n",
    "# 'Case Number': 2.45%\n",
    "\n",
    "# They all seem pretty workable with, and even though Date and Year have proportionally less NaNs, 'Case Number' seems more standardized"
   ]
  },
  {
   "cell_type": "code",
   "execution_count": 73,
   "id": "8d55989d-9477-4dcb-b651-bcbaa4f4d786",
   "metadata": {},
   "outputs": [
    {
     "data": {
      "text/plain": [
       "Case Number.1\n",
       "2012.09.02.b    2\n",
       "1913.08.27.R    2\n",
       "1980.07.00      2\n",
       "2021.12.06      2\n",
       "1920.00.00.b    2\n",
       "               ..\n",
       "2002.12.21      1\n",
       "2002.12.24      1\n",
       "2002.12.29      1\n",
       "2003.01.02      1\n",
       "ND.0001         1\n",
       "Name: count, Length: 6775, dtype: int64"
      ]
     },
     "execution_count": 73,
     "metadata": {},
     "output_type": "execute_result"
    }
   ],
   "source": [
    "data['Case Number.1'].value_counts() # The difference between the two is not clear... Is it a whole column duplicated?\n",
    "# After cleaning the dataset and dropping some columns, I came to realize that this columns are indeed duplicated\n",
    "# >>>> Suggested drop <<<<"
   ]
  },
  {
   "cell_type": "code",
   "execution_count": null,
   "id": "fdf400df-108d-402b-ab43-ea5c77c2cea5",
   "metadata": {},
   "outputs": [],
   "source": []
  },
  {
   "cell_type": "code",
   "execution_count": 67,
   "id": "f05ad9a3-b127-4b40-b191-f3815933df1f",
   "metadata": {},
   "outputs": [
    {
     "data": {
      "text/plain": [
       "original order\n",
       "6369.0    2\n",
       "569.0     2\n",
       "6802.0    1\n",
       "2272.0    1\n",
       "2262.0    1\n",
       "         ..\n",
       "4536.0    1\n",
       "4537.0    1\n",
       "4538.0    1\n",
       "4539.0    1\n",
       "2.0       1\n",
       "Name: count, Length: 6797, dtype: int64"
      ]
     },
     "execution_count": 67,
     "metadata": {},
     "output_type": "execute_result"
    }
   ],
   "source": [
    "data['original order'].value_counts() # >>> Suggested drop <<<\n",
    "# This looks like an Index, maybe they changed the older index but wanted to keep it somehow"
   ]
  },
  {
   "cell_type": "code",
   "execution_count": 69,
   "id": "70953ad8-9364-41ab-a247-5eb3bb472eaf",
   "metadata": {},
   "outputs": [
    {
     "data": {
      "text/plain": [
       "Unnamed: 21\n",
       "stopped here    1\n",
       "Name: count, dtype: int64"
      ]
     },
     "execution_count": 69,
     "metadata": {},
     "output_type": "execute_result"
    }
   ],
   "source": [
    "data['Unnamed: 21'].value_counts() # >>> Suggested drop <<<"
   ]
  },
  {
   "cell_type": "code",
   "execution_count": 71,
   "id": "4e6f8b12-cf36-4aec-be89-cfbd828da5c5",
   "metadata": {},
   "outputs": [
    {
     "data": {
      "text/plain": [
       "Unnamed: 22\n",
       "Teramo             1\n",
       "change filename    1\n",
       "Name: count, dtype: int64"
      ]
     },
     "execution_count": 71,
     "metadata": {},
     "output_type": "execute_result"
    }
   ],
   "source": [
    "data['Unnamed: 22'].value_counts() # >>> Suggested drop <<<"
   ]
  }
 ],
 "metadata": {
  "kernelspec": {
   "display_name": "Python 3 (ipykernel)",
   "language": "python",
   "name": "python3"
  },
  "language_info": {
   "codemirror_mode": {
    "name": "ipython",
    "version": 3
   },
   "file_extension": ".py",
   "mimetype": "text/x-python",
   "name": "python",
   "nbconvert_exporter": "python",
   "pygments_lexer": "ipython3",
   "version": "3.12.4"
  }
 },
 "nbformat": 4,
 "nbformat_minor": 5
}
